{
 "cells": [
  {
   "cell_type": "markdown",
   "metadata": {},
   "source": [
    "##### **1. CONNECTION ESTABLISHMENT**"
   ]
  },
  {
   "cell_type": "code",
   "execution_count": 1,
   "metadata": {},
   "outputs": [],
   "source": [
    "import pymysql\n",
    "\n",
    "def db():\n",
    "        return pymysql.connect(\n",
    "            host='192.168.18.206',  # Remote MySQL Server IP\n",
    "            user='root',\n",
    "            password='mydb1234@XTI#2025',\n",
    "            database='my_db',\n",
    "            port=3306\n",
    "        )\n",
    "   \n",
    "mydb = db()\n",
    "cursor = mydb.cursor()"
   ]
  },
  {
   "cell_type": "markdown",
   "metadata": {},
   "source": [
    "##### **2. TABLE CREATION IN DATABASE**"
   ]
  },
  {
   "cell_type": "markdown",
   "metadata": {},
   "source": [
    "**NTID REQUEST DETAILS TABLE**"
   ]
  },
  {
   "cell_type": "code",
   "execution_count": 6,
   "metadata": {},
   "outputs": [
    {
     "data": {
      "text/plain": [
       "0"
      ]
     },
     "execution_count": 6,
     "metadata": {},
     "output_type": "execute_result"
    }
   ],
   "source": [
    "# id INT AUTO_INCREMENT PRIMARY KEY,\n",
    "# fillers_email VARCHAR(255) NOT NULL,\n",
    "# your_name VARCHAR(255) NOT NULL,\n",
    "# employee_name VARCHAR(255) NOT NULL,\n",
    "# date DATE NOT NULL,\n",
    "# pay_rate DECIMAL(10,2) NOT NULL,\n",
    "# pay_type VARCHAR(50) NOT NULL,\n",
    "# position VARCHAR(255) NOT NULL,\n",
    "# email VARCHAR(255) NOT NULL,\n",
    "# phone VARCHAR(20) NOT NULL,\n",
    "# t_shirt_size VARCHAR(50),\n",
    "# badge_name VARCHAR(255),\n",
    "# language VARCHAR(100),\n",
    "# training_completed ENUM('Yes', 'No', 'Other') NOT NULL,\n",
    "# training_details TEXT,\n",
    "# market_selection TEXT\n",
    "# training_proof LONGBLOB, \n",
    "# file_type VARCHAR(50)\n",
    "\n",
    "\n",
    "query = \"CREATE TABLE NTID_REQUEST_DETAILS (id INT AUTO_INCREMENT PRIMARY KEY, fillers_email VARCHAR(255) NOT NULL, your_name VARCHAR(255) NOT NULL, employee_name VARCHAR(255) NOT NULL, date DATE NOT NULL, pay_rate DECIMAL(10,2) NOT NULL, pay_type VARCHAR(50) NOT NULL, position VARCHAR(255) NOT NULL, email VARCHAR(255) NOT NULL, phone VARCHAR(20) NOT NULL, t_shirt_size VARCHAR(50), badge_name VARCHAR(255), language VARCHAR(100), training_completed ENUM('Yes', 'No', 'Other') NOT NULL, training_details TEXT, market_selection TEXT, primary_door VARCHAR(255),secondary_door VARCHAR(255), training_proof LONGBLOB, file_type VARCHAR(50));\"\n",
    "cursor.execute(query)\n"
   ]
  },
  {
   "cell_type": "code",
   "execution_count": null,
   "metadata": {},
   "outputs": [],
   "source": []
  }
 ],
 "metadata": {
  "kernelspec": {
   "display_name": ".venv",
   "language": "python",
   "name": "python3"
  },
  "language_info": {
   "codemirror_mode": {
    "name": "ipython",
    "version": 3
   },
   "file_extension": ".py",
   "mimetype": "text/x-python",
   "name": "python",
   "nbconvert_exporter": "python",
   "pygments_lexer": "ipython3",
   "version": "3.12.5"
  }
 },
 "nbformat": 4,
 "nbformat_minor": 2
}
